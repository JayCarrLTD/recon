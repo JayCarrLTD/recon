{
 "cells": [
  {
   "cell_type": "markdown",
   "metadata": {},
   "source": [
    "# Reconciliation\n",
    "This program imports an excel data file, then checks to see if the 'Actual' amount listed matches the 'Recorded' amount. If the values do not match, the program pulls that information and stores it into a separate file."
   ]
  },
  {
   "cell_type": "code",
   "execution_count": 1,
   "metadata": {
    "scrolled": false
   },
   "outputs": [
    {
     "name": "stdout",
     "output_type": "stream",
     "text": [
      "html.border has been deprecated, use display.html.border instead\n",
      "(currently both are identical)\n",
      "\n",
      "\n",
      ": boolean\n",
      "    use_inf_as_null had been deprecated and will be removed in a future\n",
      "    version. Use `use_inf_as_na` instead.\n",
      "\n"
     ]
    }
   ],
   "source": [
    "import warnings\n",
    "warnings.simplefilter(action='ignore', category=Warning)\n",
    "import pandas as pd\n",
    "pd.reset_option('all')"
   ]
  },
  {
   "cell_type": "code",
   "execution_count": 2,
   "metadata": {},
   "outputs": [],
   "source": [
    "df = pd.read_csv('C:\\\\Users\\don\\Documents\\Reconilation.csv')"
   ]
  },
  {
   "cell_type": "code",
   "execution_count": 3,
   "metadata": {
    "scrolled": false
   },
   "outputs": [
    {
     "data": {
      "text/html": [
       "<div>\n",
       "<style scoped>\n",
       "    .dataframe tbody tr th:only-of-type {\n",
       "        vertical-align: middle;\n",
       "    }\n",
       "\n",
       "    .dataframe tbody tr th {\n",
       "        vertical-align: top;\n",
       "    }\n",
       "\n",
       "    .dataframe thead th {\n",
       "        text-align: right;\n",
       "    }\n",
       "</style>\n",
       "<table border=\"1\" class=\"dataframe\">\n",
       "  <thead>\n",
       "    <tr style=\"text-align: right;\">\n",
       "      <th></th>\n",
       "      <th>Merchant</th>\n",
       "      <th>Recorded</th>\n",
       "      <th>Actual</th>\n",
       "      <th>Account</th>\n",
       "      <th>Date</th>\n",
       "      <th>Difference</th>\n",
       "    </tr>\n",
       "  </thead>\n",
       "  <tbody>\n",
       "    <tr>\n",
       "      <th>0</th>\n",
       "      <td>Bank of America</td>\n",
       "      <td>$7,968.00</td>\n",
       "      <td>$566.00</td>\n",
       "      <td>1966</td>\n",
       "      <td>7/3/2019</td>\n",
       "      <td>$7,402.00</td>\n",
       "    </tr>\n",
       "    <tr>\n",
       "      <th>1</th>\n",
       "      <td>Dulcan Storage</td>\n",
       "      <td>$6,730.00</td>\n",
       "      <td>$543.00</td>\n",
       "      <td>1966</td>\n",
       "      <td>3/15/2019</td>\n",
       "      <td>$6,187.00</td>\n",
       "    </tr>\n",
       "    <tr>\n",
       "      <th>2</th>\n",
       "      <td>Facebook</td>\n",
       "      <td>$9,677.00</td>\n",
       "      <td>$9,677.00</td>\n",
       "      <td>2643</td>\n",
       "      <td>3/20/2019</td>\n",
       "      <td>$0.00</td>\n",
       "    </tr>\n",
       "    <tr>\n",
       "      <th>3</th>\n",
       "      <td>Best Buy</td>\n",
       "      <td>$9,517.00</td>\n",
       "      <td>$9,517.00</td>\n",
       "      <td>2643</td>\n",
       "      <td>2/15/2019</td>\n",
       "      <td>$0.00</td>\n",
       "    </tr>\n",
       "    <tr>\n",
       "      <th>4</th>\n",
       "      <td>BP</td>\n",
       "      <td>$953.00</td>\n",
       "      <td>$953.00</td>\n",
       "      <td>1966</td>\n",
       "      <td>3/14/2019</td>\n",
       "      <td>$0.00</td>\n",
       "    </tr>\n",
       "  </tbody>\n",
       "</table>\n",
       "</div>"
      ],
      "text/plain": [
       "          Merchant    Recorded      Actual  Account       Date  Difference\n",
       "0  Bank of America  $7,968.00     $566.00      1966   7/3/2019  $7,402.00 \n",
       "1   Dulcan Storage  $6,730.00     $543.00      1966  3/15/2019  $6,187.00 \n",
       "2         Facebook  $9,677.00   $9,677.00      2643  3/20/2019      $0.00 \n",
       "3         Best Buy  $9,517.00   $9,517.00      2643  2/15/2019      $0.00 \n",
       "4               BP    $953.00     $953.00      1966  3/14/2019      $0.00 "
      ]
     },
     "execution_count": 3,
     "metadata": {},
     "output_type": "execute_result"
    }
   ],
   "source": [
    "df.head()"
   ]
  },
  {
   "cell_type": "code",
   "execution_count": 4,
   "metadata": {},
   "outputs": [],
   "source": [
    "df = df.loc[df.Recorded != df.Actual]"
   ]
  },
  {
   "cell_type": "code",
   "execution_count": 5,
   "metadata": {},
   "outputs": [
    {
     "name": "stdout",
     "output_type": "stream",
     "text": [
      "<class 'pandas.core.frame.DataFrame'>\n",
      "Int64Index: 18 entries, 0 to 293\n",
      "Data columns (total 6 columns):\n",
      "Merchant      18 non-null object\n",
      "Recorded      18 non-null object\n",
      "Actual        18 non-null object\n",
      "Account       18 non-null int64\n",
      "Date          18 non-null object\n",
      "Difference    18 non-null object\n",
      "dtypes: int64(1), object(5)\n",
      "memory usage: 1008.0+ bytes\n"
     ]
    }
   ],
   "source": [
    "df.info()"
   ]
  },
  {
   "cell_type": "code",
   "execution_count": 6,
   "metadata": {},
   "outputs": [],
   "source": [
    "df1 =  df"
   ]
  },
  {
   "cell_type": "code",
   "execution_count": 7,
   "metadata": {
    "scrolled": true
   },
   "outputs": [],
   "source": [
    "df1['Recorded'] = df['Recorded'].str.replace('$','')\n",
    "df1['Recorded'] = df['Recorded'].str.replace(',','')\n",
    "df1['Recorded'] = df1['Recorded'].astype(float)"
   ]
  },
  {
   "cell_type": "code",
   "execution_count": 8,
   "metadata": {},
   "outputs": [],
   "source": [
    "df1['Actual'] = df['Actual'].str.replace('$','')\n",
    "df1['Actual'] = df['Actual'].str.replace(',','')\n",
    "df1['Actual'] = df1['Actual'].astype(float)"
   ]
  },
  {
   "cell_type": "code",
   "execution_count": 9,
   "metadata": {},
   "outputs": [
    {
     "name": "stdout",
     "output_type": "stream",
     "text": [
      "<class 'pandas.core.frame.DataFrame'>\n",
      "Int64Index: 18 entries, 0 to 293\n",
      "Data columns (total 6 columns):\n",
      "Merchant      18 non-null object\n",
      "Recorded      18 non-null float64\n",
      "Actual        18 non-null float64\n",
      "Account       18 non-null int64\n",
      "Date          18 non-null object\n",
      "Difference    18 non-null object\n",
      "dtypes: float64(2), int64(1), object(3)\n",
      "memory usage: 1008.0+ bytes\n"
     ]
    }
   ],
   "source": [
    "df1.info()"
   ]
  },
  {
   "cell_type": "code",
   "execution_count": 10,
   "metadata": {},
   "outputs": [],
   "source": [
    "df1['Difference'] = df1['Recorded'] - df1['Actual']"
   ]
  },
  {
   "cell_type": "code",
   "execution_count": 11,
   "metadata": {
    "scrolled": true
   },
   "outputs": [
    {
     "data": {
      "text/html": [
       "<div>\n",
       "<style scoped>\n",
       "    .dataframe tbody tr th:only-of-type {\n",
       "        vertical-align: middle;\n",
       "    }\n",
       "\n",
       "    .dataframe tbody tr th {\n",
       "        vertical-align: top;\n",
       "    }\n",
       "\n",
       "    .dataframe thead th {\n",
       "        text-align: right;\n",
       "    }\n",
       "</style>\n",
       "<table border=\"1\" class=\"dataframe\">\n",
       "  <thead>\n",
       "    <tr style=\"text-align: right;\">\n",
       "      <th></th>\n",
       "      <th>Merchant</th>\n",
       "      <th>Recorded</th>\n",
       "      <th>Actual</th>\n",
       "      <th>Account</th>\n",
       "      <th>Date</th>\n",
       "      <th>Difference</th>\n",
       "    </tr>\n",
       "  </thead>\n",
       "  <tbody>\n",
       "    <tr>\n",
       "      <th>0</th>\n",
       "      <td>Bank of America</td>\n",
       "      <td>7968.0</td>\n",
       "      <td>566.0</td>\n",
       "      <td>1966</td>\n",
       "      <td>7/3/2019</td>\n",
       "      <td>7402.0</td>\n",
       "    </tr>\n",
       "    <tr>\n",
       "      <th>1</th>\n",
       "      <td>Dulcan Storage</td>\n",
       "      <td>6730.0</td>\n",
       "      <td>543.0</td>\n",
       "      <td>1966</td>\n",
       "      <td>3/15/2019</td>\n",
       "      <td>6187.0</td>\n",
       "    </tr>\n",
       "    <tr>\n",
       "      <th>16</th>\n",
       "      <td>Bank of America</td>\n",
       "      <td>1486.0</td>\n",
       "      <td>4564.0</td>\n",
       "      <td>1966</td>\n",
       "      <td>11/29/2019</td>\n",
       "      <td>-3078.0</td>\n",
       "    </tr>\n",
       "    <tr>\n",
       "      <th>22</th>\n",
       "      <td>Bank of America</td>\n",
       "      <td>7272.0</td>\n",
       "      <td>4985.0</td>\n",
       "      <td>1966</td>\n",
       "      <td>10/11/2019</td>\n",
       "      <td>2287.0</td>\n",
       "    </tr>\n",
       "    <tr>\n",
       "      <th>28</th>\n",
       "      <td>Best Buy</td>\n",
       "      <td>9000.0</td>\n",
       "      <td>6698.0</td>\n",
       "      <td>2643</td>\n",
       "      <td>1/22/2019</td>\n",
       "      <td>2302.0</td>\n",
       "    </tr>\n",
       "  </tbody>\n",
       "</table>\n",
       "</div>"
      ],
      "text/plain": [
       "           Merchant  Recorded  Actual  Account        Date  Difference\n",
       "0   Bank of America    7968.0   566.0     1966    7/3/2019      7402.0\n",
       "1    Dulcan Storage    6730.0   543.0     1966   3/15/2019      6187.0\n",
       "16  Bank of America    1486.0  4564.0     1966  11/29/2019     -3078.0\n",
       "22  Bank of America    7272.0  4985.0     1966  10/11/2019      2287.0\n",
       "28         Best Buy    9000.0  6698.0     2643   1/22/2019      2302.0"
      ]
     },
     "execution_count": 11,
     "metadata": {},
     "output_type": "execute_result"
    }
   ],
   "source": [
    "df1.head()"
   ]
  },
  {
   "cell_type": "code",
   "execution_count": 12,
   "metadata": {},
   "outputs": [],
   "source": [
    "export_csv = df.to_csv (r'C:\\Users\\Don\\Desktop\\export_dataframe.csv', index = None, header=True) "
   ]
  }
 ],
 "metadata": {
  "kernelspec": {
   "display_name": "Python 3",
   "language": "python",
   "name": "python3"
  },
  "language_info": {
   "codemirror_mode": {
    "name": "ipython",
    "version": 3
   },
   "file_extension": ".py",
   "mimetype": "text/x-python",
   "name": "python",
   "nbconvert_exporter": "python",
   "pygments_lexer": "ipython3",
   "version": "3.7.1"
  }
 },
 "nbformat": 4,
 "nbformat_minor": 2
}
